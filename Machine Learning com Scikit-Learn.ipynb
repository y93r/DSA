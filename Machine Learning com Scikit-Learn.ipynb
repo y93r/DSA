{
 "cells": [
  {
   "cell_type": "markdown",
   "id": "2e61bd63",
   "metadata": {},
   "source": [
    "![DSA](imagens/dsa_cap15.png)"
   ]
  },
  {
   "cell_type": "markdown",
   "id": "8bcd982a",
   "metadata": {},
   "source": [
    "# <font color='darkblue'>Data Science Academy</font>\n",
    "\n",
    "## <font color='darkblue'>Fundamentos de Linguagem Python Para Análise de Dados e Data Science</font>\n",
    "\n",
    "## <font color='darkblue'>Machine Learning com Scikit-Learn</font>\n",
    "\n",
    "Problema de Negócio:\n",
    "\n",
    "Usando dados históricos é possível prever o salário de alguém com base no tempo dedicado aos estudos em horas por mês?"
   ]
  },
  {
   "cell_type": "code",
   "execution_count": 1,
   "id": "990fce06",
   "metadata": {},
   "outputs": [],
   "source": [
    "# Bibliotecas\n",
    "import numpy as np\n",
    "import pandas as pd\n",
    "import matplotlib.pyplot as plt\n",
    "import seaborn as sns\n",
    "from sklearn.linear_model import LinearRegression\n",
    "from sklearn.model_selection import train_test_split"
   ]
  },
  {
   "cell_type": "code",
   "execution_count": 2,
   "id": "1151bfa9",
   "metadata": {},
   "outputs": [
    {
     "data": {
      "text/html": [
       "<div>\n",
       "<style scoped>\n",
       "    .dataframe tbody tr th:only-of-type {\n",
       "        vertical-align: middle;\n",
       "    }\n",
       "\n",
       "    .dataframe tbody tr th {\n",
       "        vertical-align: top;\n",
       "    }\n",
       "\n",
       "    .dataframe thead th {\n",
       "        text-align: right;\n",
       "    }\n",
       "</style>\n",
       "<table border=\"1\" class=\"dataframe\">\n",
       "  <thead>\n",
       "    <tr style=\"text-align: right;\">\n",
       "      <th></th>\n",
       "      <th>horas_estudo_mes</th>\n",
       "      <th>salario</th>\n",
       "    </tr>\n",
       "  </thead>\n",
       "  <tbody>\n",
       "    <tr>\n",
       "      <th>0</th>\n",
       "      <td>57.0</td>\n",
       "      <td>6813.0</td>\n",
       "    </tr>\n",
       "    <tr>\n",
       "      <th>1</th>\n",
       "      <td>48.0</td>\n",
       "      <td>6855.0</td>\n",
       "    </tr>\n",
       "    <tr>\n",
       "      <th>2</th>\n",
       "      <td>60.0</td>\n",
       "      <td>5801.0</td>\n",
       "    </tr>\n",
       "    <tr>\n",
       "      <th>3</th>\n",
       "      <td>73.0</td>\n",
       "      <td>7431.0</td>\n",
       "    </tr>\n",
       "    <tr>\n",
       "      <th>4</th>\n",
       "      <td>46.0</td>\n",
       "      <td>5475.0</td>\n",
       "    </tr>\n",
       "    <tr>\n",
       "      <th>...</th>\n",
       "      <td>...</td>\n",
       "      <td>...</td>\n",
       "    </tr>\n",
       "    <tr>\n",
       "      <th>495</th>\n",
       "      <td>58.0</td>\n",
       "      <td>6259.0</td>\n",
       "    </tr>\n",
       "    <tr>\n",
       "      <th>496</th>\n",
       "      <td>34.0</td>\n",
       "      <td>6099.0</td>\n",
       "    </tr>\n",
       "    <tr>\n",
       "      <th>497</th>\n",
       "      <td>47.0</td>\n",
       "      <td>6170.0</td>\n",
       "    </tr>\n",
       "    <tr>\n",
       "      <th>498</th>\n",
       "      <td>37.0</td>\n",
       "      <td>5064.0</td>\n",
       "    </tr>\n",
       "    <tr>\n",
       "      <th>499</th>\n",
       "      <td>29.0</td>\n",
       "      <td>5236.0</td>\n",
       "    </tr>\n",
       "  </tbody>\n",
       "</table>\n",
       "<p>500 rows × 2 columns</p>\n",
       "</div>"
      ],
      "text/plain": [
       "     horas_estudo_mes  salario\n",
       "0                57.0   6813.0\n",
       "1                48.0   6855.0\n",
       "2                60.0   5801.0\n",
       "3                73.0   7431.0\n",
       "4                46.0   5475.0\n",
       "..                ...      ...\n",
       "495              58.0   6259.0\n",
       "496              34.0   6099.0\n",
       "497              47.0   6170.0\n",
       "498              37.0   5064.0\n",
       "499              29.0   5236.0\n",
       "\n",
       "[500 rows x 2 columns]"
      ]
     },
     "execution_count": 2,
     "metadata": {},
     "output_type": "execute_result"
    }
   ],
   "source": [
    "# Carregar o dataset\n",
    "df_dsa = pd.read_csv('dataset.csv')\n",
    "df_dsa"
   ]
  },
  {
   "cell_type": "code",
   "execution_count": 3,
   "id": "e3a7b711",
   "metadata": {},
   "outputs": [
    {
     "data": {
      "text/plain": [
       "(500, 2)"
      ]
     },
     "execution_count": 3,
     "metadata": {},
     "output_type": "execute_result"
    }
   ],
   "source": [
    "df_dsa.shape"
   ]
  },
  {
   "cell_type": "code",
   "execution_count": 4,
   "id": "51156f8f",
   "metadata": {},
   "outputs": [
    {
     "data": {
      "text/plain": [
       "Index(['horas_estudo_mes', 'salario'], dtype='object')"
      ]
     },
     "execution_count": 4,
     "metadata": {},
     "output_type": "execute_result"
    }
   ],
   "source": [
    "df_dsa.columns"
   ]
  },
  {
   "cell_type": "code",
   "execution_count": 5,
   "id": "6660e1d1",
   "metadata": {},
   "outputs": [
    {
     "name": "stdout",
     "output_type": "stream",
     "text": [
      "<class 'pandas.core.frame.DataFrame'>\n",
      "RangeIndex: 500 entries, 0 to 499\n",
      "Data columns (total 2 columns):\n",
      " #   Column            Non-Null Count  Dtype  \n",
      "---  ------            --------------  -----  \n",
      " 0   horas_estudo_mes  500 non-null    float64\n",
      " 1   salario           500 non-null    float64\n",
      "dtypes: float64(2)\n",
      "memory usage: 7.9 KB\n"
     ]
    }
   ],
   "source": [
    "df_dsa.info()"
   ]
  },
  {
   "cell_type": "markdown",
   "id": "11a4ca28",
   "metadata": {},
   "source": [
    "## Resumo Estatístico"
   ]
  },
  {
   "cell_type": "code",
   "execution_count": 6,
   "id": "a2266bc8",
   "metadata": {},
   "outputs": [
    {
     "data": {
      "text/plain": [
       "horas_estudo_mes    0\n",
       "salario             0\n",
       "dtype: int64"
      ]
     },
     "execution_count": 6,
     "metadata": {},
     "output_type": "execute_result"
    }
   ],
   "source": [
    "# Verifica se há valores ausentes\n",
    "df_dsa.isnull().sum()"
   ]
  },
  {
   "cell_type": "code",
   "execution_count": 7,
   "id": "3ca8d43a",
   "metadata": {},
   "outputs": [
    {
     "data": {
      "text/html": [
       "<div>\n",
       "<style scoped>\n",
       "    .dataframe tbody tr th:only-of-type {\n",
       "        vertical-align: middle;\n",
       "    }\n",
       "\n",
       "    .dataframe tbody tr th {\n",
       "        vertical-align: top;\n",
       "    }\n",
       "\n",
       "    .dataframe thead th {\n",
       "        text-align: right;\n",
       "    }\n",
       "</style>\n",
       "<table border=\"1\" class=\"dataframe\">\n",
       "  <thead>\n",
       "    <tr style=\"text-align: right;\">\n",
       "      <th></th>\n",
       "      <th>horas_estudo_mes</th>\n",
       "      <th>salario</th>\n",
       "    </tr>\n",
       "  </thead>\n",
       "  <tbody>\n",
       "    <tr>\n",
       "      <th>horas_estudo_mes</th>\n",
       "      <td>1.000000</td>\n",
       "      <td>0.818576</td>\n",
       "    </tr>\n",
       "    <tr>\n",
       "      <th>salario</th>\n",
       "      <td>0.818576</td>\n",
       "      <td>1.000000</td>\n",
       "    </tr>\n",
       "  </tbody>\n",
       "</table>\n",
       "</div>"
      ],
      "text/plain": [
       "                  horas_estudo_mes   salario\n",
       "horas_estudo_mes          1.000000  0.818576\n",
       "salario                   0.818576  1.000000"
      ]
     },
     "execution_count": 7,
     "metadata": {},
     "output_type": "execute_result"
    }
   ],
   "source": [
    "# Correlação\n",
    "df_dsa.corr()"
   ]
  },
  {
   "cell_type": "code",
   "execution_count": 8,
   "id": "8dbb6e2d",
   "metadata": {},
   "outputs": [
    {
     "data": {
      "text/html": [
       "<div>\n",
       "<style scoped>\n",
       "    .dataframe tbody tr th:only-of-type {\n",
       "        vertical-align: middle;\n",
       "    }\n",
       "\n",
       "    .dataframe tbody tr th {\n",
       "        vertical-align: top;\n",
       "    }\n",
       "\n",
       "    .dataframe thead th {\n",
       "        text-align: right;\n",
       "    }\n",
       "</style>\n",
       "<table border=\"1\" class=\"dataframe\">\n",
       "  <thead>\n",
       "    <tr style=\"text-align: right;\">\n",
       "      <th></th>\n",
       "      <th>horas_estudo_mes</th>\n",
       "      <th>salario</th>\n",
       "    </tr>\n",
       "  </thead>\n",
       "  <tbody>\n",
       "    <tr>\n",
       "      <th>count</th>\n",
       "      <td>500.000000</td>\n",
       "      <td>500.000000</td>\n",
       "    </tr>\n",
       "    <tr>\n",
       "      <th>mean</th>\n",
       "      <td>50.060000</td>\n",
       "      <td>6018.930000</td>\n",
       "    </tr>\n",
       "    <tr>\n",
       "      <th>std</th>\n",
       "      <td>14.659406</td>\n",
       "      <td>848.697853</td>\n",
       "    </tr>\n",
       "    <tr>\n",
       "      <th>min</th>\n",
       "      <td>1.000000</td>\n",
       "      <td>3664.000000</td>\n",
       "    </tr>\n",
       "    <tr>\n",
       "      <th>25%</th>\n",
       "      <td>39.750000</td>\n",
       "      <td>5473.000000</td>\n",
       "    </tr>\n",
       "    <tr>\n",
       "      <th>50%</th>\n",
       "      <td>50.000000</td>\n",
       "      <td>6013.500000</td>\n",
       "    </tr>\n",
       "    <tr>\n",
       "      <th>75%</th>\n",
       "      <td>60.000000</td>\n",
       "      <td>6542.000000</td>\n",
       "    </tr>\n",
       "    <tr>\n",
       "      <th>max</th>\n",
       "      <td>100.000000</td>\n",
       "      <td>9348.000000</td>\n",
       "    </tr>\n",
       "  </tbody>\n",
       "</table>\n",
       "</div>"
      ],
      "text/plain": [
       "       horas_estudo_mes      salario\n",
       "count        500.000000   500.000000\n",
       "mean          50.060000  6018.930000\n",
       "std           14.659406   848.697853\n",
       "min            1.000000  3664.000000\n",
       "25%           39.750000  5473.000000\n",
       "50%           50.000000  6013.500000\n",
       "75%           60.000000  6542.000000\n",
       "max          100.000000  9348.000000"
      ]
     },
     "execution_count": 8,
     "metadata": {},
     "output_type": "execute_result"
    }
   ],
   "source": [
    "# Resumo estatístico do dataset \n",
    "df_dsa.describe()"
   ]
  },
  {
   "cell_type": "code",
   "execution_count": 9,
   "id": "95020031",
   "metadata": {},
   "outputs": [
    {
     "data": {
      "text/plain": [
       "count    500.000000\n",
       "mean      50.060000\n",
       "std       14.659406\n",
       "min        1.000000\n",
       "25%       39.750000\n",
       "50%       50.000000\n",
       "75%       60.000000\n",
       "max      100.000000\n",
       "Name: horas_estudo_mes, dtype: float64"
      ]
     },
     "execution_count": 9,
     "metadata": {},
     "output_type": "execute_result"
    }
   ],
   "source": [
    "# Resumo estatístico da variável preditora\n",
    "df_dsa[\"horas_estudo_mes\"].describe()"
   ]
  },
  {
   "cell_type": "code",
   "execution_count": 10,
   "id": "0297c5f3",
   "metadata": {},
   "outputs": [
    {
     "data": {
      "text/plain": [
       "<Axes: xlabel='horas_estudo_mes', ylabel='Count'>"
      ]
     },
     "execution_count": 10,
     "metadata": {},
     "output_type": "execute_result"
    },
    {
     "data": {
      "image/png": "[encoded data removed]",
      "text/plain": [
       "<Figure size 640x480 with 1 Axes>"
      ]
     },
     "metadata": {},
     "output_type": "display_data"
    }
   ],
   "source": [
    "# Histograma da variável preditora\n",
    "sns.histplot(data = df_dsa, x = \"horas_estudo_mes\", kde = True)"
   ]
  },
  {
   "cell_type": "markdown",
   "id": "4b557c2e",
   "metadata": {},
   "source": [
    "## Preparação dos Dados"
   ]
  },
  {
   "cell_type": "code",
   "execution_count": 11,
   "id": "5044dde2",
   "metadata": {},
   "outputs": [],
   "source": [
    "# Prepara a variável de entrada X\n",
    "X = np.array(df_dsa['horas_estudo_mes'])"
   ]
  },
  {
   "cell_type": "code",
   "execution_count": 12,
   "id": "a00ffc2c",
   "metadata": {},
   "outputs": [
    {
     "data": {
      "text/plain": [
       "numpy.ndarray"
      ]
     },
     "execution_count": 12,
     "metadata": {},
     "output_type": "execute_result"
    }
   ],
   "source": [
    "type(X)"
   ]
  },
  {
   "cell_type": "code",
   "execution_count": 13,
   "id": "dcd885a8",
   "metadata": {},
   "outputs": [],
   "source": [
    "# Ajusta o shape de X\n",
    "X = X.reshape(-1, 1)"
   ]
  },
  {
   "cell_type": "code",
   "execution_count": 14,
   "id": "04005015",
   "metadata": {},
   "outputs": [],
   "source": [
    "# Prepara a variável alvo\n",
    "y = df_dsa['salario']"
   ]
  },
  {
   "cell_type": "code",
   "execution_count": 15,
   "id": "98079a79",
   "metadata": {},
   "outputs": [
    {
     "data": {
      "image/png": "[encoded data removed]",
      "text/plain": [
       "<Figure size 640x480 with 1 Axes>"
      ]
     },
     "metadata": {},
     "output_type": "display_data"
    }
   ],
   "source": [
    "# Gráfico de dispersão entre X e y\n",
    "plt.scatter(X, y, color = \"darkblue\", label = \"Dados Reais Históricos\")\n",
    "plt.xlabel(\"Horas de Estudo\")\n",
    "plt.ylabel(\"Salário\")\n",
    "plt.legend()\n",
    "plt.show()"
   ]
  },
  {
   "cell_type": "code",
   "execution_count": 16,
   "id": "e931b7ed",
   "metadata": {},
   "outputs": [],
   "source": [
    "X_treino, X_teste, y_treino, y_teste = train_test_split(X, y, test_size = 0.2, random_state = 42)"
   ]
  },
  {
   "cell_type": "code",
   "execution_count": 17,
   "id": "fbbb85f3",
   "metadata": {},
   "outputs": [
    {
     "data": {
      "text/plain": [
       "(400, 1)"
      ]
     },
     "execution_count": 17,
     "metadata": {},
     "output_type": "execute_result"
    }
   ],
   "source": [
    "X_treino.shape"
   ]
  },
  {
   "cell_type": "code",
   "execution_count": 18,
   "id": "d27abd74",
   "metadata": {},
   "outputs": [
    {
     "data": {
      "text/plain": [
       "(100, 1)"
      ]
     },
     "execution_count": 18,
     "metadata": {},
     "output_type": "execute_result"
    }
   ],
   "source": [
    "X_teste.shape"
   ]
  },
  {
   "cell_type": "code",
   "execution_count": 19,
   "id": "9df037b3",
   "metadata": {},
   "outputs": [
    {
     "data": {
      "text/plain": [
       "(400,)"
      ]
     },
     "execution_count": 19,
     "metadata": {},
     "output_type": "execute_result"
    }
   ],
   "source": [
    "y_treino.shape"
   ]
  },
  {
   "cell_type": "code",
   "execution_count": 20,
   "id": "a4960857",
   "metadata": {},
   "outputs": [
    {
     "data": {
      "text/plain": [
       "(100,)"
      ]
     },
     "execution_count": 20,
     "metadata": {},
     "output_type": "execute_result"
    }
   ],
   "source": [
    "y_teste.shape"
   ]
  },
  {
   "cell_type": "markdown",
   "id": "031731e4",
   "metadata": {},
   "source": [
    "X vira uma matriz e Y é um vetor"
   ]
  },
  {
   "cell_type": "markdown",
   "id": "7d66cb66",
   "metadata": {},
   "source": [
    "## Modelagem Preditiva (Machine Learning)"
   ]
  },
  {
   "cell_type": "code",
   "execution_count": 21,
   "id": "b079ddc2",
   "metadata": {},
   "outputs": [],
   "source": [
    "# Cria o modelo de regressão linear simples\n",
    "modelo = LinearRegression()"
   ]
  },
  {
   "cell_type": "code",
   "execution_count": 22,
   "id": "dd9afa0b",
   "metadata": {},
   "outputs": [
    {
     "data": {
      "text/html": [
       "<style>#sk-container-id-1 {color: black;background-color: white;}#sk-container-id-1 pre{padding: 0;}#sk-container-id-1 div.sk-toggleable {background-color: white;}#sk-container-id-1 label.sk-toggleable__label {cursor: pointer;display: block;width: 100%;margin-bottom: 0;padding: 0.3em;box-sizing: border-box;text-align: center;}#sk-container-id-1 label.sk-toggleable__label-arrow:before {content: \"▸\";float: left;margin-right: 0.25em;color: #696969;}#sk-container-id-1 label.sk-toggleable__label-arrow:hover:before {color: black;}#sk-container-id-1 div.sk-estimator:hover label.sk-toggleable__label-arrow:before {color: black;}#sk-container-id-1 div.sk-toggleable__content {max-height: 0;max-width: 0;overflow: hidden;text-align: left;background-color: #f0f8ff;}#sk-container-id-1 div.sk-toggleable__content pre {margin: 0.2em;color: black;border-radius: 0.25em;background-color: #f0f8ff;}#sk-container-id-1 input.sk-toggleable__control:checked~div.sk-toggleable__content {max-height: 200px;max-width: 100%;overflow: auto;}#sk-container-id-1 input.sk-toggleable__control:checked~label.sk-toggleable__label-arrow:before {content: \"▾\";}#sk-container-id-1 div.sk-estimator input.sk-toggleable__control:checked~label.sk-toggleable__label {background-color: #d4ebff;}#sk-container-id-1 div.sk-label input.sk-toggleable__control:checked~label.sk-toggleable__label {background-color: #d4ebff;}#sk-container-id-1 input.sk-hidden--visually {border: 0;clip: rect(1px 1px 1px 1px);clip: rect(1px, 1px, 1px, 1px);height: 1px;margin: -1px;overflow: hidden;padding: 0;position: absolute;width: 1px;}#sk-container-id-1 div.sk-estimator {font-family: monospace;background-color: #f0f8ff;border: 1px dotted black;border-radius: 0.25em;box-sizing: border-box;margin-bottom: 0.5em;}#sk-container-id-1 div.sk-estimator:hover {background-color: #d4ebff;}#sk-container-id-1 div.sk-parallel-item::after {content: \"\";width: 100%;border-bottom: 1px solid gray;flex-grow: 1;}#sk-container-id-1 div.sk-label:hover label.sk-toggleable__label {background-color: #d4ebff;}#sk-container-id-1 div.sk-serial::before {content: \"\";position: absolute;border-left: 1px solid gray;box-sizing: border-box;top: 0;bottom: 0;left: 50%;z-index: 0;}#sk-container-id-1 div.sk-serial {display: flex;flex-direction: column;align-items: center;background-color: white;padding-right: 0.2em;padding-left: 0.2em;position: relative;}#sk-container-id-1 div.sk-item {position: relative;z-index: 1;}#sk-container-id-1 div.sk-parallel {display: flex;align-items: stretch;justify-content: center;background-color: white;position: relative;}#sk-container-id-1 div.sk-item::before, #sk-container-id-1 div.sk-parallel-item::before {content: \"\";position: absolute;border-left: 1px solid gray;box-sizing: border-box;top: 0;bottom: 0;left: 50%;z-index: -1;}#sk-container-id-1 div.sk-parallel-item {display: flex;flex-direction: column;z-index: 1;position: relative;background-color: white;}#sk-container-id-1 div.sk-parallel-item:first-child::after {align-self: flex-end;width: 50%;}#sk-container-id-1 div.sk-parallel-item:last-child::after {align-self: flex-start;width: 50%;}#sk-container-id-1 div.sk-parallel-item:only-child::after {width: 0;}#sk-container-id-1 div.sk-dashed-wrapped {border: 1px dashed gray;margin: 0 0.4em 0.5em 0.4em;box-sizing: border-box;padding-bottom: 0.4em;background-color: white;}#sk-container-id-1 div.sk-label label {font-family: monospace;font-weight: bold;display: inline-block;line-height: 1.2em;}#sk-container-id-1 div.sk-label-container {text-align: center;}#sk-container-id-1 div.sk-container {/* jupyter's `normalize.less` sets `[hidden] { display: none; }` but bootstrap.min.css set `[hidden] { display: none !important; }` so we also need the `!important` here to be able to override the default hidden behavior on the sphinx rendered scikit-learn.org. See: https://github.com/scikit-learn/scikit-learn/issues/21755 */display: inline-block !important;position: relative;}#sk-container-id-1 div.sk-text-repr-fallback {display: none;}</style><div id=\"sk-container-id-1\" class=\"sk-top-container\"><div class=\"sk-text-repr-fallback\"><pre>LinearRegression()</pre><b>In a Jupyter environment, please rerun this cell to show the HTML representation or trust the notebook. <br />On GitHub, the HTML representation is unable to render, please try loading this page with nbviewer.org.</b></div><div class=\"sk-container\" hidden><div class=\"sk-item\"><div class=\"sk-estimator sk-toggleable\"><input class=\"sk-toggleable__control sk-hidden--visually\" id=\"sk-estimator-id-1\" type=\"checkbox\" checked><label for=\"sk-estimator-id-1\" class=\"sk-toggleable__label sk-toggleable__label-arrow\">LinearRegression</label><div class=\"sk-toggleable__content\"><pre>LinearRegression()</pre></div></div></div></div></div>"
      ],
      "text/plain": [
       "LinearRegression()"
      ]
     },
     "execution_count": 22,
     "metadata": {},
     "output_type": "execute_result"
    }
   ],
   "source": [
    "# Treina o modelo\n",
    "modelo.fit(X_treino, y_treino)"
   ]
  },
  {
   "cell_type": "code",
   "execution_count": 23,
   "id": "69834602",
   "metadata": {},
   "outputs": [
    {
     "data": {
      "image/png": "[encoded data removed]",
      "text/plain": [
       "<Figure size 640x480 with 1 Axes>"
      ]
     },
     "metadata": {},
     "output_type": "display_data"
    }
   ],
   "source": [
    "# Visualiza a reta de regressão linear (previsões) e os dados reais usados no treinamento\n",
    "plt.scatter(X, y, color = \"darkblue\", label = \"Dados Reais Históricos\")\n",
    "plt.plot(X, modelo.predict(X), color = \"red\", label = \"Reta de Regressão com as Previsões do Modelo\")\n",
    "plt.xlabel(\"Horas de Estudo\")\n",
    "plt.ylabel(\"Salário\")\n",
    "plt.legend()\n",
    "plt.show()"
   ]
  },
  {
   "cell_type": "code",
   "execution_count": 24,
   "id": "7b83dc75",
   "metadata": {},
   "outputs": [
    {
     "name": "stdout",
     "output_type": "stream",
     "text": [
      "Coeficiente R^2: 0.59\n"
     ]
    }
   ],
   "source": [
    "# Avalia o modelo nos dados de teste\n",
    "score = modelo.score(X_teste, y_teste)\n",
    "print(f\"Coeficiente R^2: {score:.2f}\")"
   ]
  },
  {
   "cell_type": "code",
   "execution_count": 25,
   "id": "00e47f08",
   "metadata": {},
   "outputs": [
    {
     "data": {
      "text/plain": [
       "3596.7837243727527"
      ]
     },
     "execution_count": 25,
     "metadata": {},
     "output_type": "execute_result"
    }
   ],
   "source": [
    "# Intercepto - parâmetro w0\n",
    "modelo.intercept_"
   ]
  },
  {
   "cell_type": "code",
   "execution_count": 26,
   "id": "dc04a738",
   "metadata": {},
   "outputs": [
    {
     "data": {
      "text/plain": [
       "array([48.18185277])"
      ]
     },
     "execution_count": 26,
     "metadata": {},
     "output_type": "execute_result"
    }
   ],
   "source": [
    "# Slope - parâmetro w1\n",
    "modelo.coef_"
   ]
  },
  {
   "cell_type": "markdown",
   "id": "57a80718",
   "metadata": {},
   "source": [
    "## Deploy do Modelo"
   ]
  },
  {
   "cell_type": "code",
   "execution_count": 30,
   "id": "c2a998d0",
   "metadata": {},
   "outputs": [
    {
     "name": "stdout",
     "output_type": "stream",
     "text": [
      "Se você estudar cerca de [[82]] horas por mês seu salário pode ser igual a [7547.69565163]\n"
     ]
    }
   ],
   "source": [
    "# Define um novo valor para horas de estudo\n",
    "horas_estudo_novo = np.array([[82]]) \n",
    "\n",
    "# Faz previsão com o modelo treinado\n",
    "salario_previsto = modelo.predict(horas_estudo_novo)\n",
    "\n",
    "print(f\"Se você estudar cerca de\", horas_estudo_novo, \"horas por mês seu salário pode ser igual a\", salario_previsto)"
   ]
  },
  {
   "cell_type": "code",
   "execution_count": 31,
   "id": "87d5f94d",
   "metadata": {},
   "outputs": [
    {
     "name": "stdout",
     "output_type": "stream",
     "text": [
      "[[7547.69565163]]\n"
     ]
    }
   ],
   "source": [
    "# Mesmo resultado anterior usando os parâmetros (coeficientes) aprendidos pelo modelo\n",
    "# y_novo = w0 + w1 * X\n",
    "salario = modelo.intercept_ + (modelo.coef_ * horas_estudo_novo)\n",
    "print(salario)"
   ]
  },
  {
   "cell_type": "code",
   "execution_count": 32,
   "id": "645c890f",
   "metadata": {},
   "outputs": [
    {
     "name": "stdout",
     "output_type": "stream",
     "text": [
      "Se você estudar cerca de [[65]] horas por mês seu salário pode ser igual a [6728.60415452]\n"
     ]
    }
   ],
   "source": [
    "# Define um novo valor para horas de estudo\n",
    "horas_estudo_novo = np.array([[65]]) \n",
    "\n",
    "# Faz previsão com o modelo treinado\n",
    "salario_previsto = modelo.predict(horas_estudo_novo)\n",
    "\n",
    "print(f\"Se você estudar cerca de\", horas_estudo_novo, \"horas por mês seu salário pode ser igual a\", salario_previsto)"
   ]
  },
  {
   "cell_type": "code",
   "execution_count": 33,
   "id": "96c644a2",
   "metadata": {},
   "outputs": [
    {
     "name": "stdout",
     "output_type": "stream",
     "text": [
      "Se você estudar cerca de [[73]] horas por mês seu salário pode ser igual a [7114.05897669]\n"
     ]
    }
   ],
   "source": [
    "# Define um novo valor para horas de estudo\n",
    "horas_estudo_novo = np.array([[73]]) \n",
    "\n",
    "# Faz previsão com o modelo treinado\n",
    "salario_previsto = modelo.predict(horas_estudo_novo)\n",
    "\n",
    "print(f\"Se você estudar cerca de\", horas_estudo_novo, \"horas por mês seu salário pode ser igual a\", salario_previsto)"
   ]
  },
  {
   "cell_type": "markdown",
   "id": "5e5b3f50",
   "metadata": {},
   "source": [
    "## Salvar esses resultados em um arquivo csv"
   ]
  },
  {
   "cell_type": "code",
   "execution_count": 39,
   "id": "b7d7bf09",
   "metadata": {},
   "outputs": [],
   "source": [
    "# Lista de horas de estudo\n",
    "horas_estudo = [10, 20, 30, 40, 50, 60, 70, 80, 90, 100]\n",
    "\n",
    "# Lista para armazenar os resultados\n",
    "resultados = []\n",
    "\n",
    "# Loop para fazer as previsões para cada valor de horas de estudo\n",
    "for horas in horas_estudo:\n",
    "    horas_estudo_novo = np.array([[horas]])\n",
    "    salario_previsto = modelo.predict(horas_estudo_novo)\n",
    "    \n",
    "    # Arredonda o valor do salário previsto para duas casas decimais\n",
    "    salario_previsto = round(salario_previsto[0], 2)\n",
    "    \n",
    "    # Salva os resultados na lista\n",
    "    resultados.append({\n",
    "        'Horas de Estudo': horas,\n",
    "        'Salário Previsto': salario_previsto\n",
    "    })\n",
    "\n",
    "# Cria o DataFrame a partir dos resultados\n",
    "df = pd.DataFrame(resultados)"
   ]
  },
  {
   "cell_type": "code",
   "execution_count": 40,
   "id": "62407049",
   "metadata": {},
   "outputs": [
    {
     "data": {
      "text/html": [
       "<div>\n",
       "<style scoped>\n",
       "    .dataframe tbody tr th:only-of-type {\n",
       "        vertical-align: middle;\n",
       "    }\n",
       "\n",
       "    .dataframe tbody tr th {\n",
       "        vertical-align: top;\n",
       "    }\n",
       "\n",
       "    .dataframe thead th {\n",
       "        text-align: right;\n",
       "    }\n",
       "</style>\n",
       "<table border=\"1\" class=\"dataframe\">\n",
       "  <thead>\n",
       "    <tr style=\"text-align: right;\">\n",
       "      <th></th>\n",
       "      <th>Horas de Estudo</th>\n",
       "      <th>Salário Previsto</th>\n",
       "    </tr>\n",
       "  </thead>\n",
       "  <tbody>\n",
       "    <tr>\n",
       "      <th>0</th>\n",
       "      <td>10</td>\n",
       "      <td>4078.60</td>\n",
       "    </tr>\n",
       "    <tr>\n",
       "      <th>1</th>\n",
       "      <td>20</td>\n",
       "      <td>4560.42</td>\n",
       "    </tr>\n",
       "    <tr>\n",
       "      <th>2</th>\n",
       "      <td>30</td>\n",
       "      <td>5042.24</td>\n",
       "    </tr>\n",
       "    <tr>\n",
       "      <th>3</th>\n",
       "      <td>40</td>\n",
       "      <td>5524.06</td>\n",
       "    </tr>\n",
       "    <tr>\n",
       "      <th>4</th>\n",
       "      <td>50</td>\n",
       "      <td>6005.88</td>\n",
       "    </tr>\n",
       "    <tr>\n",
       "      <th>5</th>\n",
       "      <td>60</td>\n",
       "      <td>6487.69</td>\n",
       "    </tr>\n",
       "    <tr>\n",
       "      <th>6</th>\n",
       "      <td>70</td>\n",
       "      <td>6969.51</td>\n",
       "    </tr>\n",
       "    <tr>\n",
       "      <th>7</th>\n",
       "      <td>80</td>\n",
       "      <td>7451.33</td>\n",
       "    </tr>\n",
       "    <tr>\n",
       "      <th>8</th>\n",
       "      <td>90</td>\n",
       "      <td>7933.15</td>\n",
       "    </tr>\n",
       "    <tr>\n",
       "      <th>9</th>\n",
       "      <td>100</td>\n",
       "      <td>8414.97</td>\n",
       "    </tr>\n",
       "  </tbody>\n",
       "</table>\n",
       "</div>"
      ],
      "text/plain": [
       "   Horas de Estudo  Salário Previsto\n",
       "0               10           4078.60\n",
       "1               20           4560.42\n",
       "2               30           5042.24\n",
       "3               40           5524.06\n",
       "4               50           6005.88\n",
       "5               60           6487.69\n",
       "6               70           6969.51\n",
       "7               80           7451.33\n",
       "8               90           7933.15\n",
       "9              100           8414.97"
      ]
     },
     "execution_count": 40,
     "metadata": {},
     "output_type": "execute_result"
    }
   ],
   "source": [
    "df"
   ]
  },
  {
   "cell_type": "code",
   "execution_count": 41,
   "id": "90fe5991",
   "metadata": {},
   "outputs": [],
   "source": [
    "# Salva o DataFrame em um arquivo CSV\n",
    "df.to_csv('Salario_Previsto.csv', index=False)"
   ]
  },
  {
   "cell_type": "code",
   "execution_count": null,
   "id": "7e499668",
   "metadata": {},
   "outputs": [],
   "source": []
  }
 ],
 "metadata": {
  "kernelspec": {
   "display_name": "Python 3 (ipykernel)",
   "language": "python",
   "name": "python3"
  },
  "language_info": {
   "codemirror_mode": {
    "name": "ipython",
    "version": 3
   },
   "file_extension": ".py",
   "mimetype": "text/x-python",
   "name": "python",
   "nbconvert_exporter": "python",
   "pygments_lexer": "ipython3",
   "version": "3.10.9"
  }
 },
 "nbformat": 4,
 "nbformat_minor": 5
}
